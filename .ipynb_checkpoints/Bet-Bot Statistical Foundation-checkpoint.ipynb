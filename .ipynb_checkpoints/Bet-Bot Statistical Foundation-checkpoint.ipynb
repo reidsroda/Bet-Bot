{
 "cells": [
  {
   "cell_type": "markdown",
   "id": "1f0b49a3",
   "metadata": {},
   "source": [
    "# NBA Live Betting Algorithm\n",
    "\n",
    "This analysis provides foundation to the NBA live betting strategy on total points scored in regular season NBA games. The volatility of sports books live predicted total rises opportunity to pinpoint when the live total is \"too high\" or \"too low\" and wager on the regression back towards it's pre-match value.\n"
   ]
  },
  {
   "cell_type": "markdown",
   "id": "f7a9c33d",
   "metadata": {},
   "source": [
    "## Data Sources\n",
    " * Data sourced from ESPN webpage on NBA scoring and betting totals\n",
    " * https://www.espn.com/nba/lines"
   ]
  },
  {
   "cell_type": "code",
   "execution_count": 18,
   "id": "602df8f6",
   "metadata": {},
   "outputs": [],
   "source": [
    "import csv\n",
    "import itertools\n",
    "import pandas as pd\n",
    "import numpy as np\n",
    "import warnings\n",
    "import matplotlib.pyplot as plt\n",
    "from scipy import stats\n",
    "import html5lib\n",
    "warnings.filterwarnings('ignore')"
   ]
  },
  {
   "cell_type": "code",
   "execution_count": 2,
   "id": "5ea01a68",
   "metadata": {},
   "outputs": [
    {
     "data": {
      "text/html": [
       "<div>\n",
       "<style scoped>\n",
       "    .dataframe tbody tr th:only-of-type {\n",
       "        vertical-align: middle;\n",
       "    }\n",
       "\n",
       "    .dataframe tbody tr th {\n",
       "        vertical-align: top;\n",
       "    }\n",
       "\n",
       "    .dataframe thead th {\n",
       "        text-align: right;\n",
       "    }\n",
       "</style>\n",
       "<table border=\"1\" class=\"dataframe\">\n",
       "  <thead>\n",
       "    <tr style=\"text-align: right;\">\n",
       "      <th></th>\n",
       "      <th>Team</th>\n",
       "      <th>OppTeam</th>\n",
       "      <th>GameId</th>\n",
       "      <th>Book_Spread</th>\n",
       "      <th>Book_OU</th>\n",
       "      <th>Spread</th>\n",
       "      <th>Result</th>\n",
       "      <th>Total</th>\n",
       "    </tr>\n",
       "  </thead>\n",
       "  <tbody>\n",
       "    <tr>\n",
       "      <th>0</th>\n",
       "      <td>Philadelphia</td>\n",
       "      <td>Boston</td>\n",
       "      <td>21800001</td>\n",
       "      <td>5.5</td>\n",
       "      <td>212.0</td>\n",
       "      <td>-18</td>\n",
       "      <td>L</td>\n",
       "      <td>192</td>\n",
       "    </tr>\n",
       "    <tr>\n",
       "      <th>2</th>\n",
       "      <td>Oklahoma City</td>\n",
       "      <td>Golden State</td>\n",
       "      <td>21800002</td>\n",
       "      <td>13.5</td>\n",
       "      <td>220.0</td>\n",
       "      <td>-8</td>\n",
       "      <td>L</td>\n",
       "      <td>208</td>\n",
       "    </tr>\n",
       "    <tr>\n",
       "      <th>4</th>\n",
       "      <td>Milwaukee</td>\n",
       "      <td>Charlotte</td>\n",
       "      <td>21800003</td>\n",
       "      <td>-4.0</td>\n",
       "      <td>221.0</td>\n",
       "      <td>1</td>\n",
       "      <td>W</td>\n",
       "      <td>225</td>\n",
       "    </tr>\n",
       "    <tr>\n",
       "      <th>6</th>\n",
       "      <td>Brooklyn</td>\n",
       "      <td>Detroit</td>\n",
       "      <td>21800004</td>\n",
       "      <td>6.5</td>\n",
       "      <td>212.0</td>\n",
       "      <td>-3</td>\n",
       "      <td>L</td>\n",
       "      <td>203</td>\n",
       "    </tr>\n",
       "    <tr>\n",
       "      <th>8</th>\n",
       "      <td>Memphis</td>\n",
       "      <td>Indiana</td>\n",
       "      <td>21800005</td>\n",
       "      <td>7.5</td>\n",
       "      <td>205.0</td>\n",
       "      <td>-28</td>\n",
       "      <td>L</td>\n",
       "      <td>194</td>\n",
       "    </tr>\n",
       "    <tr>\n",
       "      <th>...</th>\n",
       "      <td>...</td>\n",
       "      <td>...</td>\n",
       "      <td>...</td>\n",
       "      <td>...</td>\n",
       "      <td>...</td>\n",
       "      <td>...</td>\n",
       "      <td>...</td>\n",
       "      <td>...</td>\n",
       "    </tr>\n",
       "    <tr>\n",
       "      <th>2442</th>\n",
       "      <td>Oklahoma City</td>\n",
       "      <td>Milwaukee</td>\n",
       "      <td>21801226</td>\n",
       "      <td>-4.5</td>\n",
       "      <td>227.0</td>\n",
       "      <td>11</td>\n",
       "      <td>W</td>\n",
       "      <td>243</td>\n",
       "    </tr>\n",
       "    <tr>\n",
       "      <th>2444</th>\n",
       "      <td>Dallas</td>\n",
       "      <td>San Antonio</td>\n",
       "      <td>21801227</td>\n",
       "      <td>14.5</td>\n",
       "      <td>219.0</td>\n",
       "      <td>-11</td>\n",
       "      <td>L</td>\n",
       "      <td>199</td>\n",
       "    </tr>\n",
       "    <tr>\n",
       "      <th>2446</th>\n",
       "      <td>Minnesota</td>\n",
       "      <td>Denver</td>\n",
       "      <td>21801228</td>\n",
       "      <td>13.0</td>\n",
       "      <td>218.0</td>\n",
       "      <td>-4</td>\n",
       "      <td>L</td>\n",
       "      <td>194</td>\n",
       "    </tr>\n",
       "    <tr>\n",
       "      <th>2448</th>\n",
       "      <td>Utah</td>\n",
       "      <td>L.A. Clippers</td>\n",
       "      <td>21801229</td>\n",
       "      <td>8.5</td>\n",
       "      <td>225.0</td>\n",
       "      <td>-6</td>\n",
       "      <td>L</td>\n",
       "      <td>280</td>\n",
       "    </tr>\n",
       "    <tr>\n",
       "      <th>2450</th>\n",
       "      <td>Sacramento</td>\n",
       "      <td>Portland</td>\n",
       "      <td>21801230</td>\n",
       "      <td>3.0</td>\n",
       "      <td>227.0</td>\n",
       "      <td>-5</td>\n",
       "      <td>L</td>\n",
       "      <td>267</td>\n",
       "    </tr>\n",
       "  </tbody>\n",
       "</table>\n",
       "<p>1226 rows × 8 columns</p>\n",
       "</div>"
      ],
      "text/plain": [
       "               Team        OppTeam    GameId  Book_Spread  Book_OU  Spread  \\\n",
       "0      Philadelphia         Boston  21800001          5.5    212.0     -18   \n",
       "2     Oklahoma City   Golden State  21800002         13.5    220.0      -8   \n",
       "4         Milwaukee      Charlotte  21800003         -4.0    221.0       1   \n",
       "6          Brooklyn        Detroit  21800004          6.5    212.0      -3   \n",
       "8           Memphis        Indiana  21800005          7.5    205.0     -28   \n",
       "...             ...            ...       ...          ...      ...     ...   \n",
       "2442  Oklahoma City      Milwaukee  21801226         -4.5    227.0      11   \n",
       "2444         Dallas    San Antonio  21801227         14.5    219.0     -11   \n",
       "2446      Minnesota         Denver  21801228         13.0    218.0      -4   \n",
       "2448           Utah  L.A. Clippers  21801229          8.5    225.0      -6   \n",
       "2450     Sacramento       Portland  21801230          3.0    227.0      -5   \n",
       "\n",
       "     Result  Total  \n",
       "0         L    192  \n",
       "2         L    208  \n",
       "4         W    225  \n",
       "6         L    203  \n",
       "8         L    194  \n",
       "...     ...    ...  \n",
       "2442      W    243  \n",
       "2444      L    199  \n",
       "2446      L    194  \n",
       "2448      L    280  \n",
       "2450      L    267  \n",
       "\n",
       "[1226 rows x 8 columns]"
      ]
     },
     "execution_count": 2,
     "metadata": {},
     "output_type": "execute_result"
    }
   ],
   "source": [
    "vegas = pd.read_csv(\"vegas_2018.csv\")\n",
    "scores = pd.read_csv(\"raw_scores.csv\")\n",
    "vegas = vegas[[\"Team\", \"OppTeam\", \"GameId\", \"Bovada_Line_Spread\", \"Bovada_Line_OU\", \"Spread\", \"Result\", \"Total\"]]\n",
    "vegas = vegas.rename(columns={\"Bovada_Line_Spread\": \"Book_Spread\", \"Bovada_Line_OU\": \"Book_OU\"})\n",
    "vegas.drop_duplicates(subset = \"GameId\")"
   ]
  },
  {
   "cell_type": "markdown",
   "id": "45d55485",
   "metadata": {},
   "source": [
    "# Data Cleaning\n",
    "Not all columns were neccesary for analysis, so essential columns were saved and the rest were dropped.\n"
   ]
  },
  {
   "cell_type": "code",
   "execution_count": 3,
   "id": "d9654268",
   "metadata": {},
   "outputs": [
    {
     "data": {
      "text/html": [
       "<div>\n",
       "<style scoped>\n",
       "    .dataframe tbody tr th:only-of-type {\n",
       "        vertical-align: middle;\n",
       "    }\n",
       "\n",
       "    .dataframe tbody tr th {\n",
       "        vertical-align: top;\n",
       "    }\n",
       "\n",
       "    .dataframe thead th {\n",
       "        text-align: right;\n",
       "    }\n",
       "</style>\n",
       "<table border=\"1\" class=\"dataframe\">\n",
       "  <thead>\n",
       "    <tr style=\"text-align: right;\">\n",
       "      <th></th>\n",
       "      <th>Team</th>\n",
       "      <th>OppTeam</th>\n",
       "      <th>Book_OU</th>\n",
       "      <th>Total</th>\n",
       "    </tr>\n",
       "  </thead>\n",
       "  <tbody>\n",
       "    <tr>\n",
       "      <th>0</th>\n",
       "      <td>Philadelphia</td>\n",
       "      <td>Boston</td>\n",
       "      <td>212.0</td>\n",
       "      <td>192</td>\n",
       "    </tr>\n",
       "    <tr>\n",
       "      <th>2</th>\n",
       "      <td>Oklahoma City</td>\n",
       "      <td>Golden State</td>\n",
       "      <td>220.0</td>\n",
       "      <td>208</td>\n",
       "    </tr>\n",
       "    <tr>\n",
       "      <th>4</th>\n",
       "      <td>Milwaukee</td>\n",
       "      <td>Charlotte</td>\n",
       "      <td>221.0</td>\n",
       "      <td>225</td>\n",
       "    </tr>\n",
       "    <tr>\n",
       "      <th>6</th>\n",
       "      <td>Brooklyn</td>\n",
       "      <td>Detroit</td>\n",
       "      <td>212.0</td>\n",
       "      <td>203</td>\n",
       "    </tr>\n",
       "    <tr>\n",
       "      <th>8</th>\n",
       "      <td>Memphis</td>\n",
       "      <td>Indiana</td>\n",
       "      <td>205.0</td>\n",
       "      <td>194</td>\n",
       "    </tr>\n",
       "    <tr>\n",
       "      <th>...</th>\n",
       "      <td>...</td>\n",
       "      <td>...</td>\n",
       "      <td>...</td>\n",
       "      <td>...</td>\n",
       "    </tr>\n",
       "    <tr>\n",
       "      <th>2442</th>\n",
       "      <td>Oklahoma City</td>\n",
       "      <td>Milwaukee</td>\n",
       "      <td>227.0</td>\n",
       "      <td>243</td>\n",
       "    </tr>\n",
       "    <tr>\n",
       "      <th>2444</th>\n",
       "      <td>Dallas</td>\n",
       "      <td>San Antonio</td>\n",
       "      <td>219.0</td>\n",
       "      <td>199</td>\n",
       "    </tr>\n",
       "    <tr>\n",
       "      <th>2446</th>\n",
       "      <td>Minnesota</td>\n",
       "      <td>Denver</td>\n",
       "      <td>218.0</td>\n",
       "      <td>194</td>\n",
       "    </tr>\n",
       "    <tr>\n",
       "      <th>2448</th>\n",
       "      <td>Utah</td>\n",
       "      <td>L.A. Clippers</td>\n",
       "      <td>225.0</td>\n",
       "      <td>280</td>\n",
       "    </tr>\n",
       "    <tr>\n",
       "      <th>2450</th>\n",
       "      <td>Sacramento</td>\n",
       "      <td>Portland</td>\n",
       "      <td>227.0</td>\n",
       "      <td>267</td>\n",
       "    </tr>\n",
       "  </tbody>\n",
       "</table>\n",
       "<p>1226 rows × 4 columns</p>\n",
       "</div>"
      ],
      "text/plain": [
       "               Team        OppTeam  Book_OU  Total\n",
       "0      Philadelphia         Boston    212.0    192\n",
       "2     Oklahoma City   Golden State    220.0    208\n",
       "4         Milwaukee      Charlotte    221.0    225\n",
       "6          Brooklyn        Detroit    212.0    203\n",
       "8           Memphis        Indiana    205.0    194\n",
       "...             ...            ...      ...    ...\n",
       "2442  Oklahoma City      Milwaukee    227.0    243\n",
       "2444         Dallas    San Antonio    219.0    199\n",
       "2446      Minnesota         Denver    218.0    194\n",
       "2448           Utah  L.A. Clippers    225.0    280\n",
       "2450     Sacramento       Portland    227.0    267\n",
       "\n",
       "[1226 rows x 4 columns]"
      ]
     },
     "execution_count": 3,
     "metadata": {},
     "output_type": "execute_result"
    }
   ],
   "source": [
    "#Data Cleaning\n",
    "vegas = vegas[[\"Team\", \"GameId\", \"OppTeam\", \"Book_OU\", \"Total\"]]\n",
    "vegas = vegas.drop_duplicates(subset = \"GameId\")\n",
    "vegas = vegas.drop(\"GameId\", axis = 1)\n",
    "vegas"
   ]
  },
  {
   "cell_type": "markdown",
   "id": "3548cbc3",
   "metadata": {},
   "source": [
    "# Exploratory Analysis"
   ]
  },
  {
   "cell_type": "code",
   "execution_count": 4,
   "id": "c2f1d9f2",
   "metadata": {},
   "outputs": [
    {
     "data": {
      "text/plain": [
       "count    1163.000000\n",
       "mean       -0.732158\n",
       "std        18.784854\n",
       "min       -99.000000\n",
       "25%       -11.000000\n",
       "50%         0.000000\n",
       "75%        12.000000\n",
       "max        50.000000\n",
       "Name: Difference, dtype: float64"
      ]
     },
     "execution_count": 4,
     "metadata": {},
     "output_type": "execute_result"
    }
   ],
   "source": [
    "vegas[\"Difference\"] = vegas[\"Book_OU\"] - vegas[\"Total\"]\n",
    "vegas.dropna()\n",
    "vegas.Difference.describe()"
   ]
  },
  {
   "cell_type": "code",
   "execution_count": 5,
   "id": "5d5c765e",
   "metadata": {},
   "outputs": [
    {
     "data": {
      "image/png": "[encoded data removed]",
      "text/plain": [
       "<Figure size 640x480 with 1 Axes>"
      ]
     },
     "metadata": {},
     "output_type": "display_data"
    }
   ],
   "source": [
    "plt.hist(vegas.Difference, bins = 25);"
   ]
  },
  {
   "cell_type": "markdown",
   "id": "e89c77d9",
   "metadata": {},
   "source": [
    "Distribution of points seems to follow normal distribution with mean of -0.7 and standard deviation of 18.78. There appears to be a fair number of points far outside the main clump of data which will create a skewed mean and standard deviation, we will remove these points using the IQR method for outlier detection."
   ]
  },
  {
   "cell_type": "code",
   "execution_count": 6,
   "id": "923bd129",
   "metadata": {},
   "outputs": [
    {
     "data": {
      "text/plain": [
       "[-45.5, 46.5]"
      ]
     },
     "execution_count": 6,
     "metadata": {},
     "output_type": "execute_result"
    }
   ],
   "source": [
    "IQR = 1.5 * (vegas.Difference.describe()[6] - vegas.Difference.describe()[4])\n",
    "Outliers = [vegas.Difference.describe()[4] - IQR, vegas.Difference.describe()[6] + IQR]\n",
    "Outliers"
   ]
  },
  {
   "cell_type": "code",
   "execution_count": 7,
   "id": "ed82fcf9",
   "metadata": {},
   "outputs": [
    {
     "data": {
      "text/plain": [
       "count    1142.000000\n",
       "mean        0.052977\n",
       "std        17.219266\n",
       "min       -44.000000\n",
       "25%       -11.000000\n",
       "50%         0.000000\n",
       "75%        12.000000\n",
       "max        43.000000\n",
       "Name: Difference, dtype: float64"
      ]
     },
     "execution_count": 7,
     "metadata": {},
     "output_type": "execute_result"
    }
   ],
   "source": [
    "vegas = vegas.loc[abs(vegas[\"Difference\"]) <= 45]\n",
    "vegas.Difference.describe()"
   ]
  },
  {
   "cell_type": "code",
   "execution_count": 8,
   "id": "c20475c1",
   "metadata": {},
   "outputs": [
    {
     "data": {
      "image/png": "[encoded data removed]",
      "text/plain": [
       "<Figure size 640x480 with 1 Axes>"
      ]
     },
     "metadata": {},
     "output_type": "display_data"
    }
   ],
   "source": [
    "#New Data Set\n",
    "plt.hist(vegas.Difference, bins = 25);"
   ]
  },
  {
   "cell_type": "markdown",
   "id": "d1c590c1",
   "metadata": {},
   "source": [
    "The filtered data set brings a more accurate mean value of 0.05 and a standard deviation of 17.2. In additon, the distribution of points more closely follows a normal distribution. "
   ]
  },
  {
   "cell_type": "markdown",
   "id": "976a3c3a",
   "metadata": {},
   "source": [
    "# Statistical Basis\n",
    "Viewing each possession of a basketball game as an independent event, we will apply the Law of Large Numbers. LOLR states that for a sequence of independent and i.i.d. random variables, as the number of observations increases the average of the sample will converge to the population mean. In context of this case, as the number of possessions increases the average score of each possession will converge to its population mean. After multiplying the average points per possession (ppp) by the constant number of expected possessions the expected total will follow the same distribution. Conditions for the Law of Large Numbers are as follows:"
   ]
  },
  {
   "cell_type": "code",
   "execution_count": 9,
   "id": "470ac86c",
   "metadata": {},
   "outputs": [
    {
     "data": {
      "text/plain": [
       "0.99505215883255"
      ]
     },
     "execution_count": 9,
     "metadata": {},
     "output_type": "execute_result"
    }
   ],
   "source": [
    "#Normal Distribution: Sample should be normally distributed\n",
    "res = stats.shapiro(vegas.Difference)\n",
    "res.statistic"
   ]
  },
  {
   "cell_type": "markdown",
   "id": "6956fc72",
   "metadata": {},
   "source": [
    "Using the Shapiro-Wilk test for normaility, we achieve a P-Value of .995 leading us to fail to reject the null hypothesis of a non-normal distribution. "
   ]
  },
  {
   "cell_type": "code",
   "execution_count": 10,
   "id": "981b3835",
   "metadata": {},
   "outputs": [],
   "source": [
    "#Independence: Each observation must be independent from others, and drawn from the same population\n"
   ]
  },
  {
   "cell_type": "code",
   "execution_count": 11,
   "id": "13ece42d",
   "metadata": {},
   "outputs": [
    {
     "data": {
      "text/plain": [
       "0.05297723292469352"
      ]
     },
     "execution_count": 11,
     "metadata": {},
     "output_type": "execute_result"
    }
   ],
   "source": [
    "#Finite Expected Value\n",
    "vegas.Difference.mean()"
   ]
  },
  {
   "cell_type": "markdown",
   "id": "f01bd28a",
   "metadata": {},
   "source": [
    "As shown the expected value is finite with a value of ~.05"
   ]
  },
  {
   "cell_type": "markdown",
   "id": "d5395291",
   "metadata": {},
   "source": [
    "# Strategy"
   ]
  },
  {
   "cell_type": "markdown",
   "id": "cc5acec4",
   "metadata": {},
   "source": [
    "Any bet placed on the opposing side of .75 standard deviations from the mean will result in an approximate\n",
    "hit rate of 53% securing profit by fundamental game theory. With a standard deviation of 15 from past seasons\n",
    "data, any live total that falls outside 11.5 points has a larger probability to regress back towards the pre-match value. This theory will result in long term profit, individual results cannot be guarenteed."
   ]
  }
 ],
 "metadata": {
  "kernelspec": {
   "display_name": "Python 3 (ipykernel)",
   "language": "python",
   "name": "python3"
  },
  "language_info": {
   "codemirror_mode": {
    "name": "ipython",
    "version": 3
   },
   "file_extension": ".py",
   "mimetype": "text/x-python",
   "name": "python",
   "nbconvert_exporter": "python",
   "pygments_lexer": "ipython3",
   "version": "3.9.13"
  }
 },
 "nbformat": 4,
 "nbformat_minor": 5
}
